{
 "cells": [
  {
   "cell_type": "code",
   "execution_count": 9,
   "id": "9093d6af",
   "metadata": {},
   "outputs": [],
   "source": [
    "import polars as pl"
   ]
  },
  {
   "cell_type": "code",
   "execution_count": 10,
   "id": "b04748d1",
   "metadata": {},
   "outputs": [],
   "source": [
    "prices = pl.read_excel('./data/datos.xlsx', sheet_name=\"Precios\")\n",
    "weights = pl.read_excel('./data/datos.xlsx', sheet_name=\"weights\")"
   ]
  },
  {
   "cell_type": "code",
   "execution_count": 73,
   "id": "931ebc2b",
   "metadata": {},
   "outputs": [],
   "source": [
    "df = prices.slice(0, 1)"
   ]
  },
  {
   "cell_type": "code",
   "execution_count": 76,
   "id": "59a019d6",
   "metadata": {},
   "outputs": [
    {
     "data": {
      "text/plain": [
       "9383.57"
      ]
     },
     "execution_count": 76,
     "metadata": {},
     "output_type": "execute_result"
    }
   ],
   "source": [
    "df['EEUU'][0]"
   ]
  },
  {
   "cell_type": "code",
   "execution_count": 70,
   "id": "bd68d47e",
   "metadata": {},
   "outputs": [
    {
     "name": "stdout",
     "output_type": "stream",
     "text": [
      "18\n",
      "2022-02-15 - Europa -9383.57 \n",
      "2022-02-15 - Japón -66.03 \n",
      "2022-02-15 - EM Asia -390.26256 \n",
      "2022-02-15 - Latam -82.35 \n",
      "2022-02-15 - High Yield -26.84 \n",
      "2022-02-15 - IG Corporate -2355.25 \n",
      "2022-02-15 - EMHC -3314.66 \n",
      "2022-02-15 - Latam HY -437.0424 \n",
      "2022-02-15 - UK -1007.533 \n",
      "2022-02-15 - Asia Desarrollada -34.48 \n",
      "2022-02-15 - EMEA -1212.81 \n",
      "2022-02-15 - Otros RV -290.449 \n",
      "2022-02-15 - Tesoro -717.81 \n",
      "2022-02-15 - MBS+CMBS+AMBS -2403.85 \n",
      "2022-02-15 - ABS -2226.56 \n",
      "2022-02-15 - MM/Caja -368.44 \n"
     ]
    },
    {
     "ename": "IndexError",
     "evalue": "list index out of range",
     "output_type": "error",
     "traceback": [
      "\u001b[31m---------------------------------------------------------------------------\u001b[39m",
      "\u001b[31mIndexError\u001b[39m                                Traceback (most recent call last)",
      "\u001b[36mCell\u001b[39m\u001b[36m \u001b[39m\u001b[32mIn[70]\u001b[39m\u001b[32m, line 6\u001b[39m\n\u001b[32m      4\u001b[39m \u001b[38;5;28;01mfor\u001b[39;00m row \u001b[38;5;129;01min\u001b[39;00m prices.iter_rows():\n\u001b[32m      5\u001b[39m     \u001b[38;5;28;01mfor\u001b[39;00m i \u001b[38;5;129;01min\u001b[39;00m \u001b[38;5;28mrange\u001b[39m(\u001b[32m1\u001b[39m, column_number):\n\u001b[32m----> \u001b[39m\u001b[32m6\u001b[39m         \u001b[38;5;28mprint\u001b[39m(\u001b[33mf\u001b[39m\u001b[33m\"\u001b[39m\u001b[38;5;132;01m{\u001b[39;00mrow[\u001b[32m0\u001b[39m]\u001b[38;5;132;01m}\u001b[39;00m\u001b[33m - \u001b[39m\u001b[38;5;132;01m{\u001b[39;00m\u001b[43mcolumns\u001b[49m\u001b[43m[\u001b[49m\u001b[43mi\u001b[49m\u001b[43m]\u001b[49m\u001b[38;5;132;01m}\u001b[39;00m\u001b[33m -\u001b[39m\u001b[38;5;132;01m{\u001b[39;00mrow[i]\u001b[38;5;132;01m}\u001b[39;00m\u001b[33m \u001b[39m\u001b[33m\"\u001b[39m)\n",
      "\u001b[31mIndexError\u001b[39m: list index out of range"
     ]
    }
   ],
   "source": [
    "column_number = prices.width\n",
    "columns = prices.columns[1:]\n",
    "print(column_number)\n",
    "for row in prices.iter_rows():\n",
    "    for i in range(1, column_number):\n",
    "        print(f\"{row[0]} - {columns[i]} -{row[i]} \")"
   ]
  },
  {
   "cell_type": "code",
   "execution_count": 51,
   "id": "c30048dc",
   "metadata": {},
   "outputs": [
    {
     "name": "stdout",
     "output_type": "stream",
     "text": [
      "['portafolio 1', 'portafolio 2']\n"
     ]
    }
   ],
   "source": [
    "port_counter = len(weights.columns)-2\n",
    "portfolios_names = [weights.columns[2:][port] for port in range(port_counter)]\n",
    "\n",
    "print(portfolios_names)\n",
    "port1 = weights.select('activos', portfolios_names[1])"
   ]
  },
  {
   "cell_type": "code",
   "execution_count": 53,
   "id": "a918b62d",
   "metadata": {},
   "outputs": [
    {
     "name": "stdout",
     "output_type": "stream",
     "text": [
      "('EEUU', 0.28)\n",
      "('Europa', 0.067)\n",
      "('UK', 0.023)\n",
      "('Japón', 0.038)\n",
      "('Asia Desarrollada', 0.016)\n",
      "('EM Asia', 0.048)\n",
      "('Latam', 0.005)\n",
      "('EMEA', 0.005)\n",
      "('Otros RV', 0.018000000000000002)\n",
      "('Tesoro', 0.215)\n",
      "('MBS+CMBS+AMBS', 0.146)\n",
      "('IG Corporate', 0.111)\n",
      "('MM/Caja', 0.028)\n"
     ]
    }
   ],
   "source": [
    "for row in port1.iter_rows():\n",
    "    if row[1]:\n",
    "        print(row)"
   ]
  }
 ],
 "metadata": {
  "kernelspec": {
   "display_name": "venv",
   "language": "python",
   "name": "python3"
  },
  "language_info": {
   "codemirror_mode": {
    "name": "ipython",
    "version": 3
   },
   "file_extension": ".py",
   "mimetype": "text/x-python",
   "name": "python",
   "nbconvert_exporter": "python",
   "pygments_lexer": "ipython3",
   "version": "3.11.3"
  }
 },
 "nbformat": 4,
 "nbformat_minor": 5
}
